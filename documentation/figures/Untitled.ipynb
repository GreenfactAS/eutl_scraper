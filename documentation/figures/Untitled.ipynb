{
 "cells": [
  {
   "cell_type": "markdown",
   "metadata": {},
   "source": [
    "# Create Overviews"
   ]
  },
  {
   "cell_type": "markdown",
   "metadata": {},
   "source": [
    "Create some overview tables used in the documentation"
   ]
  },
  {
   "cell_type": "markdown",
   "metadata": {},
   "source": [
    "# Packages and options"
   ]
  },
  {
   "cell_type": "code",
   "execution_count": 1,
   "metadata": {},
   "outputs": [],
   "source": [
    "import pandas as pd"
   ]
  },
  {
   "cell_type": "code",
   "execution_count": 2,
   "metadata": {},
   "outputs": [],
   "source": [
    "dir_in = \"../../data/final/\""
   ]
  },
  {
   "cell_type": "markdown",
   "metadata": {},
   "source": [
    "# Accounts"
   ]
  },
  {
   "cell_type": "code",
   "execution_count": 6,
   "metadata": {},
   "outputs": [
    {
     "name": "stderr",
     "output_type": "stream",
     "text": [
      "C:\\Users\\abrel\\anaconda3\\envs\\py38_eutl\\lib\\site-packages\\IPython\\core\\interactiveshell.py:3071: DtypeWarning: Columns (6) have mixed types.Specify dtype option on import or set low_memory=False.\n",
      "  has_raised = await self.run_ast_nodes(code_ast.body, cell_name,\n"
     ]
    }
   ],
   "source": [
    "df_acc = pd.read_csv(dir_in + \"accounts.csv\")\n",
    "df_accType = pd.read_csv(dir_in + \"accountTypeCodes.csv\")"
   ]
  },
  {
   "cell_type": "code",
   "execution_count": 7,
   "metadata": {},
   "outputs": [
    {
     "name": "stdout",
     "output_type": "stream",
     "text": [
      "<class 'pandas.core.frame.DataFrame'>\n",
      "RangeIndex: 41565 entries, 0 to 41564\n",
      "Data columns (total 16 columns):\n",
      " #   Column                     Non-Null Count  Dtype  \n",
      "---  ------                     --------------  -----  \n",
      " 0   accountIDEutl              40861 non-null  float64\n",
      " 1   name                       40880 non-null  object \n",
      " 2   registry_id                40861 non-null  object \n",
      " 3   accountType_id             40854 non-null  object \n",
      " 4   openingDate                40825 non-null  object \n",
      " 5   closingDate                23558 non-null  object \n",
      " 6   isOpen                     40880 non-null  object \n",
      " 7   commitmentPeriod           19094 non-null  object \n",
      " 8   companyRegistrationNumber  36552 non-null  object \n",
      " 9   installation_id            17542 non-null  object \n",
      " 10  accountIDtransactions      33544 non-null  object \n",
      " 11  isRegisteredEutl           41565 non-null  bool   \n",
      " 12  accountHolder_id           40854 non-null  float64\n",
      " 13  id                         41565 non-null  int64  \n",
      " 14  created_on                 41546 non-null  object \n",
      " 15  updated_on                 41546 non-null  object \n",
      "dtypes: bool(1), float64(2), int64(1), object(12)\n",
      "memory usage: 4.8+ MB\n"
     ]
    }
   ],
   "source": [
    "df_acc.info()"
   ]
  },
  {
   "cell_type": "code",
   "execution_count": 19,
   "metadata": {},
   "outputs": [],
   "source": [
    "df_ = df_acc.groupby([\"accountType_id\"], as_index=False).id.count()\n",
    "df_.columns = [\"id\", \"count\"]\n",
    "df_ = df_.merge(df_accType, on=\"id\", how=\"outer\").fillna(0)\n",
    "# for easier sorting\n",
    "df_[\"main\"] = df_[\"id\"].map(lambda x: int(x.split(\"-\")[0]))\n",
    "df_[\"sup\"] = df_[\"id\"].map(lambda x: int(x.split(\"-\")[1]))\n",
    "#df_.to_excel(\"tmp_.xlsx\")"
   ]
  },
  {
   "cell_type": "markdown",
   "metadata": {},
   "source": [
    "# Installations"
   ]
  },
  {
   "cell_type": "code",
   "execution_count": 3,
   "metadata": {},
   "outputs": [
    {
     "name": "stderr",
     "output_type": "stream",
     "text": [
      "C:\\Users\\abrel\\anaconda3\\envs\\py38_eutl\\lib\\site-packages\\IPython\\core\\interactiveshell.py:3071: DtypeWarning: Columns (14) have mixed types.Specify dtype option on import or set low_memory=False.\n",
      "  has_raised = await self.run_ast_nodes(code_ast.body, cell_name,\n"
     ]
    }
   ],
   "source": [
    "df_inst = pd.read_csv(dir_in + \"installations.csv\")\n",
    "df_instType = pd.read_csv(dir_in + \"activityCodes.csv\")\n",
    "df_ = df_inst.groupby(\"activity_id\", as_index=False).id.count()\n",
    "df_.columns = [\"id\", \"number\"]\n",
    "df_ = df_.merge(df_instType, on=\"id\", how=\"outer\").fillna(0).sort_values(\"id\")\n",
    "#df_[\"percent\"] = df_.number/df_.number.sum()\n",
    "df_.to_excel(\"tmp_.xlsx\", index=False)"
   ]
  },
  {
   "cell_type": "code",
   "execution_count": 4,
   "metadata": {},
   "outputs": [],
   "source": [
    "df_[\"percent\"] = (df_.number/df_.number.sum())*100"
   ]
  },
  {
   "cell_type": "code",
   "execution_count": 5,
   "metadata": {},
   "outputs": [
    {
     "name": "stdout",
     "output_type": "stream",
     "text": [
      "<class 'pandas.core.frame.DataFrame'>\n",
      "RangeIndex: 17542 entries, 0 to 17541\n",
      "Data columns (total 33 columns):\n",
      " #   Column               Non-Null Count  Dtype  \n",
      "---  ------               --------------  -----  \n",
      " 0   id                   17542 non-null  object \n",
      " 1   name                 15967 non-null  object \n",
      " 2   registry_id          17542 non-null  object \n",
      " 3   activity_id          17542 non-null  int64  \n",
      " 4   eprtrID              5324 non-null   object \n",
      " 5   parentCompany        5998 non-null   object \n",
      " 6   subsidiaryCompany    3512 non-null   object \n",
      " 7   permitID             15967 non-null  object \n",
      " 8   designatorICAO       599 non-null    object \n",
      " 9   monitoringID         1575 non-null   object \n",
      " 10  monitoringExpiry     0 non-null      float64\n",
      " 11  monitoringFirstYear  1574 non-null   object \n",
      " 12  permitDateExpiry     4080 non-null   object \n",
      " 13  isAircraftOperator   17542 non-null  bool   \n",
      " 14  ec748_2009Code       1575 non-null   object \n",
      " 15  permitDateEntry      15957 non-null  object \n",
      " 16  mainAddress          17542 non-null  object \n",
      " 17  secondaryAddress     4055 non-null   object \n",
      " 18  postalCode           17539 non-null  object \n",
      " 19  city                 17539 non-null  object \n",
      " 20  country_id           17542 non-null  object \n",
      " 21  latitudeEutl         3655 non-null   float64\n",
      " 22  longitudeEutl        3655 non-null   float64\n",
      " 23  entitlement          13955 non-null  float64\n",
      " 24  latitudeGoogle       15835 non-null  float64\n",
      " 25  longitudeGoogle      15835 non-null  float64\n",
      " 26  latitudeOsm          6998 non-null   float64\n",
      " 27  longitudeOsm         6998 non-null   float64\n",
      " 28  nace15_id            13351 non-null  float64\n",
      " 29  nace20_id            15066 non-null  float64\n",
      " 30  nace_id              15068 non-null  float64\n",
      " 31  created_on           17542 non-null  object \n",
      " 32  updated_on           17542 non-null  object \n",
      "dtypes: bool(1), float64(11), int64(1), object(20)\n",
      "memory usage: 4.3+ MB\n"
     ]
    }
   ],
   "source": [
    "df_inst.info()"
   ]
  },
  {
   "cell_type": "markdown",
   "metadata": {},
   "source": [
    "# Transactions"
   ]
  },
  {
   "cell_type": "code",
   "execution_count": 48,
   "metadata": {},
   "outputs": [],
   "source": [
    "df_trans = pd.read_csv(dir_in + \"transactionBlocks.csv\")\n",
    "df_mainTrans = pd.read_csv(dir_in + \"mainTransactionTypeCodes.csv\")\n",
    "df_supTrans = pd.read_csv(dir_in + \"supplementaryTransactionTypeCodes.csv\")"
   ]
  },
  {
   "cell_type": "code",
   "execution_count": 53,
   "metadata": {},
   "outputs": [],
   "source": [
    "df_ = df_trans.groupby([\"transactionTypeMain_id\", \"transactionTypeSupplementary_id\"], as_index=False).amount.sum()\n",
    "df_.amount = round(df_.amount/1000000, 2)\n",
    "#df_"
   ]
  },
  {
   "cell_type": "code",
   "execution_count": 52,
   "metadata": {},
   "outputs": [
    {
     "data": {
      "text/html": [
       "<div>\n",
       "<style scoped>\n",
       "    .dataframe tbody tr th:only-of-type {\n",
       "        vertical-align: middle;\n",
       "    }\n",
       "\n",
       "    .dataframe tbody tr th {\n",
       "        vertical-align: top;\n",
       "    }\n",
       "\n",
       "    .dataframe thead th {\n",
       "        text-align: right;\n",
       "    }\n",
       "</style>\n",
       "<table border=\"1\" class=\"dataframe\">\n",
       "  <thead>\n",
       "    <tr style=\"text-align: right;\">\n",
       "      <th></th>\n",
       "      <th>transactionTypeMain_id</th>\n",
       "      <th>transactionTypeSupplementary_id</th>\n",
       "      <th>amount</th>\n",
       "      <th>description_x</th>\n",
       "      <th>description_y</th>\n",
       "      <th>description_x</th>\n",
       "      <th>description_y</th>\n",
       "    </tr>\n",
       "  </thead>\n",
       "  <tbody>\n",
       "    <tr>\n",
       "      <th>0</th>\n",
       "      <td>1.0</td>\n",
       "      <td>0.0</td>\n",
       "      <td>27921.65</td>\n",
       "      <td>Issuance - Initial creation of a unit</td>\n",
       "      <td>No Supplementary Type</td>\n",
       "      <td>Issuance - Initial creation of a unit</td>\n",
       "      <td>No Supplementary Type</td>\n",
       "    </tr>\n",
       "    <tr>\n",
       "      <th>1</th>\n",
       "      <td>2.0</td>\n",
       "      <td>0.0</td>\n",
       "      <td>85.79</td>\n",
       "      <td>Conversion - Transformation of unit to create ...</td>\n",
       "      <td>No Supplementary Type</td>\n",
       "      <td>Conversion - Transformation of unit to create ...</td>\n",
       "      <td>No Supplementary Type</td>\n",
       "    </tr>\n",
       "    <tr>\n",
       "      <th>2</th>\n",
       "      <td>3.0</td>\n",
       "      <td>0.0</td>\n",
       "      <td>18713.03</td>\n",
       "      <td>External - External transfer of unit between r...</td>\n",
       "      <td>No Supplementary Type</td>\n",
       "      <td>External - External transfer of unit between r...</td>\n",
       "      <td>No Supplementary Type</td>\n",
       "    </tr>\n",
       "    <tr>\n",
       "      <th>3</th>\n",
       "      <td>4.0</td>\n",
       "      <td>0.0</td>\n",
       "      <td>494.91</td>\n",
       "      <td>Cancellation - Internal transfer of unit</td>\n",
       "      <td>No Supplementary Type</td>\n",
       "      <td>Cancellation - Internal transfer of unit</td>\n",
       "      <td>No Supplementary Type</td>\n",
       "    </tr>\n",
       "    <tr>\n",
       "      <th>4</th>\n",
       "      <td>5.0</td>\n",
       "      <td>0.0</td>\n",
       "      <td>16570.29</td>\n",
       "      <td>Retirement - Internal transfer of unit</td>\n",
       "      <td>No Supplementary Type</td>\n",
       "      <td>Retirement - Internal transfer of unit</td>\n",
       "      <td>No Supplementary Type</td>\n",
       "    </tr>\n",
       "    <tr>\n",
       "      <th>...</th>\n",
       "      <td>...</td>\n",
       "      <td>...</td>\n",
       "      <td>...</td>\n",
       "      <td>...</td>\n",
       "      <td>...</td>\n",
       "      <td>...</td>\n",
       "      <td>...</td>\n",
       "    </tr>\n",
       "    <tr>\n",
       "      <th>69</th>\n",
       "      <td>0.0</td>\n",
       "      <td>0.0</td>\n",
       "      <td>0.00</td>\n",
       "      <td>0</td>\n",
       "      <td>Conversion prior to Transfer to SOP (Conversio...</td>\n",
       "      <td>0</td>\n",
       "      <td>No Supplementary Type</td>\n",
       "    </tr>\n",
       "    <tr>\n",
       "      <th>70</th>\n",
       "      <td>0.0</td>\n",
       "      <td>0.0</td>\n",
       "      <td>0.00</td>\n",
       "      <td>0</td>\n",
       "      <td>Conversion of AAUs or RMUs into ERUs (Conversi...</td>\n",
       "      <td>0</td>\n",
       "      <td>No Supplementary Type</td>\n",
       "    </tr>\n",
       "    <tr>\n",
       "      <th>71</th>\n",
       "      <td>0.0</td>\n",
       "      <td>0.0</td>\n",
       "      <td>0.00</td>\n",
       "      <td>0</td>\n",
       "      <td>Unallocated Allowance Conversion</td>\n",
       "      <td>0</td>\n",
       "      <td>No Supplementary Type</td>\n",
       "    </tr>\n",
       "    <tr>\n",
       "      <th>72</th>\n",
       "      <td>0.0</td>\n",
       "      <td>0.0</td>\n",
       "      <td>0.00</td>\n",
       "      <td>0</td>\n",
       "      <td>Reversal of Surrender Kyoto Units from AOHA</td>\n",
       "      <td>0</td>\n",
       "      <td>No Supplementary Type</td>\n",
       "    </tr>\n",
       "    <tr>\n",
       "      <th>73</th>\n",
       "      <td>0.0</td>\n",
       "      <td>0.0</td>\n",
       "      <td>0.00</td>\n",
       "      <td>0</td>\n",
       "      <td>Reversal of Allowance Cancellation</td>\n",
       "      <td>0</td>\n",
       "      <td>No Supplementary Type</td>\n",
       "    </tr>\n",
       "  </tbody>\n",
       "</table>\n",
       "<p>74 rows × 7 columns</p>\n",
       "</div>"
      ],
      "text/plain": [
       "    transactionTypeMain_id  transactionTypeSupplementary_id    amount  \\\n",
       "0                      1.0                              0.0  27921.65   \n",
       "1                      2.0                              0.0     85.79   \n",
       "2                      3.0                              0.0  18713.03   \n",
       "3                      4.0                              0.0    494.91   \n",
       "4                      5.0                              0.0  16570.29   \n",
       "..                     ...                              ...       ...   \n",
       "69                     0.0                              0.0      0.00   \n",
       "70                     0.0                              0.0      0.00   \n",
       "71                     0.0                              0.0      0.00   \n",
       "72                     0.0                              0.0      0.00   \n",
       "73                     0.0                              0.0      0.00   \n",
       "\n",
       "                                        description_x  \\\n",
       "0               Issuance - Initial creation of a unit   \n",
       "1   Conversion - Transformation of unit to create ...   \n",
       "2   External - External transfer of unit between r...   \n",
       "3            Cancellation - Internal transfer of unit   \n",
       "4              Retirement - Internal transfer of unit   \n",
       "..                                                ...   \n",
       "69                                                  0   \n",
       "70                                                  0   \n",
       "71                                                  0   \n",
       "72                                                  0   \n",
       "73                                                  0   \n",
       "\n",
       "                                        description_y  \\\n",
       "0                               No Supplementary Type   \n",
       "1                               No Supplementary Type   \n",
       "2                               No Supplementary Type   \n",
       "3                               No Supplementary Type   \n",
       "4                               No Supplementary Type   \n",
       "..                                                ...   \n",
       "69  Conversion prior to Transfer to SOP (Conversio...   \n",
       "70  Conversion of AAUs or RMUs into ERUs (Conversi...   \n",
       "71                   Unallocated Allowance Conversion   \n",
       "72        Reversal of Surrender Kyoto Units from AOHA   \n",
       "73                 Reversal of Allowance Cancellation   \n",
       "\n",
       "                                        description_x          description_y  \n",
       "0               Issuance - Initial creation of a unit  No Supplementary Type  \n",
       "1   Conversion - Transformation of unit to create ...  No Supplementary Type  \n",
       "2   External - External transfer of unit between r...  No Supplementary Type  \n",
       "3            Cancellation - Internal transfer of unit  No Supplementary Type  \n",
       "4              Retirement - Internal transfer of unit  No Supplementary Type  \n",
       "..                                                ...                    ...  \n",
       "69                                                  0  No Supplementary Type  \n",
       "70                                                  0  No Supplementary Type  \n",
       "71                                                  0  No Supplementary Type  \n",
       "72                                                  0  No Supplementary Type  \n",
       "73                                                  0  No Supplementary Type  \n",
       "\n",
       "[74 rows x 7 columns]"
      ]
     },
     "execution_count": 52,
     "metadata": {},
     "output_type": "execute_result"
    }
   ],
   "source": [
    "df_ = df_.merge(df_mainTrans, left_on=\"transactionTypeMain_id\", right_on=\"id\", how=\"left\").fillna(0).drop(\"id\", axis=1)\n",
    "df_ = df_.merge(df_supTrans, left_on=\"transactionTypeSupplementary_id\", right_on=\"id\", how=\"left\").fillna(0).drop(\"id\", axis=1)\n",
    "df_"
   ]
  },
  {
   "cell_type": "code",
   "execution_count": null,
   "metadata": {},
   "outputs": [],
   "source": []
  }
 ],
 "metadata": {
  "kernelspec": {
   "display_name": "Python [conda env:py38_eutl]",
   "language": "python",
   "name": "conda-env-py38_eutl-py"
  },
  "language_info": {
   "codemirror_mode": {
    "name": "ipython",
    "version": 3
   },
   "file_extension": ".py",
   "mimetype": "text/x-python",
   "name": "python",
   "nbconvert_exporter": "python",
   "pygments_lexer": "ipython3",
   "version": "3.8.5"
  },
  "toc": {
   "base_numbering": 1,
   "nav_menu": {},
   "number_sections": true,
   "sideBar": true,
   "skip_h1_title": false,
   "title_cell": "Table of Contents",
   "title_sidebar": "Contents",
   "toc_cell": false,
   "toc_position": {},
   "toc_section_display": true,
   "toc_window_display": false
  },
  "varInspector": {
   "cols": {
    "lenName": 16,
    "lenType": 16,
    "lenVar": 40
   },
   "kernels_config": {
    "python": {
     "delete_cmd_postfix": "",
     "delete_cmd_prefix": "del ",
     "library": "var_list.py",
     "varRefreshCmd": "print(var_dic_list())"
    },
    "r": {
     "delete_cmd_postfix": ") ",
     "delete_cmd_prefix": "rm(",
     "library": "var_list.r",
     "varRefreshCmd": "cat(var_dic_list()) "
    }
   },
   "types_to_exclude": [
    "module",
    "function",
    "builtin_function_or_method",
    "instance",
    "_Feature"
   ],
   "window_display": false
  }
 },
 "nbformat": 4,
 "nbformat_minor": 4
}
