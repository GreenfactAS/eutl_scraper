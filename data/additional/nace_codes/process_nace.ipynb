{
 "cells": [
  {
   "cell_type": "markdown",
   "metadata": {},
   "source": [
    "# Process NACE"
   ]
  },
  {
   "cell_type": "markdown",
   "metadata": {},
   "source": [
    "Processing of NACE data obtained from Eurostat\n",
    "\n",
    "https://ec.europa.eu/eurostat/ramon/nomenclatures/index.cfm?TargetUrl=LST_CLS_DLD&StrNom=NACE_REV2&StrLanguageCode=EN&StrLayoutCode=HIERARCHIC#\n",
    "\n",
    "jab 27.04.2020"
   ]
  },
  {
   "cell_type": "markdown",
   "metadata": {},
   "source": [
    "# Packages and options"
   ]
  },
  {
   "cell_type": "code",
   "execution_count": 1,
   "metadata": {},
   "outputs": [],
   "source": [
    "import pandas as pd"
   ]
  },
  {
   "cell_type": "markdown",
   "metadata": {},
   "source": [
    "# Read data"
   ]
  },
  {
   "cell_type": "code",
   "execution_count": 2,
   "metadata": {},
   "outputs": [],
   "source": [
    "lst_df = pd.read_html(\"./NACE_REV2_20200427_154248.htm\")"
   ]
  },
  {
   "cell_type": "code",
   "execution_count": 3,
   "metadata": {},
   "outputs": [
    {
     "data": {
      "text/plain": [
       "1"
      ]
     },
     "execution_count": 3,
     "metadata": {},
     "output_type": "execute_result"
    }
   ],
   "source": [
    "len(lst_df)"
   ]
  },
  {
   "cell_type": "code",
   "execution_count": 4,
   "metadata": {},
   "outputs": [
    {
     "name": "stdout",
     "output_type": "stream",
     "text": [
      "<class 'pandas.core.frame.DataFrame'>\n",
      "RangeIndex: 996 entries, 0 to 995\n",
      "Data columns (total 10 columns):\n",
      " #   Column                    Non-Null Count  Dtype \n",
      "---  ------                    --------------  ----- \n",
      " 0   Order                     996 non-null    int64 \n",
      " 1   Level                     996 non-null    int64 \n",
      " 2   Code                      996 non-null    object\n",
      " 3   Parent                    975 non-null    object\n",
      " 4   Description               996 non-null    object\n",
      " 5   This item includes        778 non-null    object\n",
      " 6   This item also includes   202 non-null    object\n",
      " 7   Rulings                   134 non-null    object\n",
      " 8   This item excludes        507 non-null    object\n",
      " 9   Reference to ISIC Rev. 4  996 non-null    object\n",
      "dtypes: int64(2), object(8)\n",
      "memory usage: 77.9+ KB\n"
     ]
    }
   ],
   "source": [
    "df_in = lst_df[0]\n",
    "df_in.info()"
   ]
  },
  {
   "cell_type": "code",
   "execution_count": 5,
   "metadata": {},
   "outputs": [
    {
     "data": {
      "text/html": [
       "<div>\n",
       "<style scoped>\n",
       "    .dataframe tbody tr th:only-of-type {\n",
       "        vertical-align: middle;\n",
       "    }\n",
       "\n",
       "    .dataframe tbody tr th {\n",
       "        vertical-align: top;\n",
       "    }\n",
       "\n",
       "    .dataframe thead th {\n",
       "        text-align: right;\n",
       "    }\n",
       "</style>\n",
       "<table border=\"1\" class=\"dataframe\">\n",
       "  <thead>\n",
       "    <tr style=\"text-align: right;\">\n",
       "      <th></th>\n",
       "      <th>Order</th>\n",
       "      <th>Level</th>\n",
       "      <th>Code</th>\n",
       "      <th>Parent</th>\n",
       "      <th>Description</th>\n",
       "      <th>This item includes</th>\n",
       "      <th>This item also includes</th>\n",
       "      <th>Rulings</th>\n",
       "      <th>This item excludes</th>\n",
       "      <th>Reference to ISIC Rev. 4</th>\n",
       "    </tr>\n",
       "  </thead>\n",
       "  <tbody>\n",
       "    <tr>\n",
       "      <th>0</th>\n",
       "      <td>398481</td>\n",
       "      <td>1</td>\n",
       "      <td>A</td>\n",
       "      <td>NaN</td>\n",
       "      <td>AGRICULTURE, FORESTRY AND FISHING</td>\n",
       "      <td>This section includes the exploitation of vege...</td>\n",
       "      <td>NaN</td>\n",
       "      <td>NaN</td>\n",
       "      <td>NaN</td>\n",
       "      <td>A</td>\n",
       "    </tr>\n",
       "  </tbody>\n",
       "</table>\n",
       "</div>"
      ],
      "text/plain": [
       "    Order  Level Code Parent                        Description  \\\n",
       "0  398481      1    A    NaN  AGRICULTURE, FORESTRY AND FISHING   \n",
       "\n",
       "                                  This item includes This item also includes  \\\n",
       "0  This section includes the exploitation of vege...                     NaN   \n",
       "\n",
       "  Rulings This item excludes Reference to ISIC Rev. 4  \n",
       "0     NaN                NaN                        A  "
      ]
     },
     "execution_count": 5,
     "metadata": {},
     "output_type": "execute_result"
    }
   ],
   "source": [
    "df_in.head(1)"
   ]
  },
  {
   "cell_type": "markdown",
   "metadata": {},
   "source": [
    "# All levels in one frame"
   ]
  },
  {
   "cell_type": "code",
   "execution_count": 6,
   "metadata": {},
   "outputs": [],
   "source": [
    "col_rename = {'Code': 'id',\n",
    "            'Level': 'level',\n",
    "            'Parent': 'parent_id',\n",
    "            'Description': 'description',\n",
    "            'This item includes': 'includes',\n",
    "            'This item also includes': 'includesAlso',\n",
    "            'Rulings': 'ruling',\n",
    "            'This item excludes': 'excludes',\n",
    "            'Reference to ISIC Rev. 4': 'isic4_id'}\n",
    "df_all = df_in.rename(columns=col_rename)[col_rename.values()].copy()"
   ]
  },
  {
   "cell_type": "markdown",
   "metadata": {},
   "source": [
    "Need to add the level 3 codes ending with .0 as rthey are sometime used as well:"
   ]
  },
  {
   "cell_type": "code",
   "execution_count": 7,
   "metadata": {},
   "outputs": [],
   "source": [
    "new_rows = []\n",
    "for i, row in df_all[df_all.level == 2].iterrows():\n",
    "    if row[\"id\"] + \".0\" not in df_all.id.values:\n",
    "        r = {k: v for k,v in row.items()}\n",
    "        r[\"id\"] = r[\"id\"] + \".0\"\n",
    "        r[\"level\"] = 3\n",
    "        r[\"parent_id\"] = row[\"id\"]\n",
    "        r['isic4_id'] = r['isic4_id'] + \"0\"\n",
    "        new_rows.append(r)\n",
    "df_ = pd.DataFrame(new_rows)"
   ]
  },
  {
   "cell_type": "code",
   "execution_count": 8,
   "metadata": {},
   "outputs": [
    {
     "data": {
      "text/plain": [
       "True"
      ]
     },
     "execution_count": 8,
     "metadata": {},
     "output_type": "execute_result"
    }
   ],
   "source": [
    "df_out = df_all.append(df_)\n",
    "df_out.to_csv(\"../nace_all.csv\", index=False)\n",
    "df_out.id.is_unique"
   ]
  },
  {
   "cell_type": "code",
   "execution_count": null,
   "metadata": {},
   "outputs": [],
   "source": []
  }
 ],
 "metadata": {
  "kernelspec": {
   "display_name": "Python [conda env:py38_gams]",
   "language": "python",
   "name": "conda-env-py38_gams-py"
  },
  "language_info": {
   "codemirror_mode": {
    "name": "ipython",
    "version": 3
   },
   "file_extension": ".py",
   "mimetype": "text/x-python",
   "name": "python",
   "nbconvert_exporter": "python",
   "pygments_lexer": "ipython3",
   "version": "3.8.5"
  },
  "toc": {
   "base_numbering": 1,
   "nav_menu": {},
   "number_sections": true,
   "sideBar": true,
   "skip_h1_title": false,
   "title_cell": "Table of Contents",
   "title_sidebar": "Contents",
   "toc_cell": false,
   "toc_position": {},
   "toc_section_display": true,
   "toc_window_display": false
  },
  "varInspector": {
   "cols": {
    "lenName": 16,
    "lenType": 16,
    "lenVar": 40
   },
   "kernels_config": {
    "python": {
     "delete_cmd_postfix": "",
     "delete_cmd_prefix": "del ",
     "library": "var_list.py",
     "varRefreshCmd": "print(var_dic_list())"
    },
    "r": {
     "delete_cmd_postfix": ") ",
     "delete_cmd_prefix": "rm(",
     "library": "var_list.r",
     "varRefreshCmd": "cat(var_dic_list()) "
    }
   },
   "types_to_exclude": [
    "module",
    "function",
    "builtin_function_or_method",
    "instance",
    "_Feature"
   ],
   "window_display": false
  }
 },
 "nbformat": 4,
 "nbformat_minor": 4
}
